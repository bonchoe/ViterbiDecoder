{
  "cells": [
    {
      "cell_type": "code",
      "execution_count": 1,
      "metadata": {
        "id": "WdtFtF-rHFvc"
      },
      "outputs": [],
      "source": [
        "import numpy as np\n",
        "import csv\n",
        "import os\n",
        "import matplotlib.pyplot as plt\n",
        "import latex\n",
        "\n",
        "from ViterbiDec import *"
      ]
    },
    {
      "cell_type": "code",
      "execution_count": 170,
      "metadata": {
        "id": "vJ-a-QboHFvg"
      },
      "outputs": [
        {
          "name": "stdout",
          "output_type": "stream",
          "text": [
            "Input = [0, 1, 1, 1]\n",
            "Zero-Padded Input = [0, 1, 1, 1, 0, 0]\n"
          ]
        }
      ],
      "source": [
        "# Generators for Convolutional Codes\n",
        "\n",
        "# Redundancy generators\n",
        "generators = [[1,1,1],[1,0,1]]\n",
        "\n",
        "# Bit receiver\n",
        "# From index 0 corresponds to [x[n], x[n-1], x[n-2]]\n",
        "\n",
        "n = 1 + np.random.randint(16)\n",
        "bits_in = list(np.random.randint(2, size = n))\n",
        "print(\"Input =\", bits_in)\n",
        "\n",
        "bits_in = bits_in + [0,0]\n",
        "print(\"Zero-Padded Input =\", bits_in)\n",
        "\n",
        "# Finite State Machine descripted for convolutional codes\n",
        "FSM = [[0b00, None, 0b11, None],\n",
        "       [0b11, None, 0b00, None],\n",
        "       [None, 0b10, None, 0b01],\n",
        "       [None, 0b01, None, 0b10]]"
      ]
    },
    {
      "cell_type": "code",
      "execution_count": 169,
      "metadata": {
        "colab": {
          "base_uri": "https://localhost:8080/"
        },
        "id": "rwhvkAiUHFvj",
        "outputId": "9d1da8a7-f34d-476c-c916-ee36664dc10b"
      },
      "outputs": [
        {
          "name": "stdout",
          "output_type": "stream",
          "text": [
            "Tx = [0, 0, 1, 1, 0, 1, 1, 0, 1, 0, 0, 1, 0, 0, 0, 1, 1, 0, 0, 1, 1, 1]\n",
            "Rx = [0, 1, 1, 1, 0, 1, 1, 0, 1, 0, 0, 0, 1, 0, 0, 1, 1, 0, 0, 1, 1, 1] \n",
            "\n",
            "Decoded complete.\n",
            "Decoded sequence from survived path is [0, 1, 1, 1, 1, 0, 1, 1, 1, 0, 0]\n",
            "FYI: Input =                           [0, 1, 1, 1, 1, 0, 1, 1, 1, 0, 0]\n",
            "Error is  3\n",
            "Decoded correctness = True\n",
            "\n"
          ]
        }
      ],
      "source": [
        "tx = encode(bits_in, generators)\n",
        "rx = bsc(tx, p=0.1)\n",
        "print(\"Tx =\", tx)\n",
        "print(\"Rx =\", rx, \"\\n\")\n",
        "\n",
        "\n",
        "# # Debug = True\n",
        "# decoded, error = viterbi_dec(rx, FSM, debug = True)\n",
        "\n",
        "# Debug = False\n",
        "decoded, error = viterbi_dec(rx, FSM)\n",
        "\n",
        "print(\"Decoded complete.\")\n",
        "\n",
        "print(\"Decoded sequence from survived path is\", decoded)\n",
        "print(\"FYI: Input =                          \", bits_in)\n",
        "print(\"Error is \", error)\n",
        "print(\"Decoded correctness =\", bits_in == decoded)\n",
        "\n",
        "print()"
      ]
    }
  ],
  "metadata": {
    "colab": {
      "provenance": []
    },
    "kernelspec": {
      "display_name": "Python 3.11.3 64-bit",
      "language": "python",
      "name": "python3"
    },
    "language_info": {
      "codemirror_mode": {
        "name": "ipython",
        "version": 3
      },
      "file_extension": ".py",
      "mimetype": "text/x-python",
      "name": "python",
      "nbconvert_exporter": "python",
      "pygments_lexer": "ipython3",
      "version": "3.11.3"
    },
    "orig_nbformat": 4,
    "vscode": {
      "interpreter": {
        "hash": "b0fa6594d8f4cbf19f97940f81e996739fb7646882a419484c72d19e05852a7e"
      }
    }
  },
  "nbformat": 4,
  "nbformat_minor": 0
}
