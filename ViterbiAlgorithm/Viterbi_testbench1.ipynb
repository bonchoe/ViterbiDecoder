{
 "cells": [
  {
   "cell_type": "code",
   "execution_count": 1,
   "metadata": {},
   "outputs": [],
   "source": [
    "import numpy as np\n",
    "import csv\n",
    "import os\n",
    "import matplotlib.pyplot as plt\n",
    "import latex\n",
    "\n",
    "from Viterbi import *"
   ]
  },
  {
   "cell_type": "code",
   "execution_count": 2,
   "metadata": {},
   "outputs": [],
   "source": [
    "# Define example parameters\n",
    "# *     obs: observed sequence\n",
    "# *  states: Possible states\n",
    "# * start_p: Initial probability distribution\n",
    "# * trans_p: Transition probability\n",
    "# *  emit_p: Emission probability\n",
    "obs = (\"normal\", \"cold\", \"dizzy\")\n",
    "states = (\"Healthy\", \"Fever\")\n",
    "start_p = {\"Healthy\": 0.6, \"Fever\": 0.4}\n",
    "trans_p = {\n",
    "    \"Healthy\": {\"Healthy\": 0.7, \"Fever\": 0.3},\n",
    "    \"Fever\": {\"Healthy\": 0.4, \"Fever\": 0.6},\n",
    "}\n",
    "emit_p = {\n",
    "    \"Healthy\": {\"normal\": 0.5, \"cold\": 0.4, \"dizzy\": 0.1},\n",
    "    \"Fever\": {\"normal\": 0.1, \"cold\": 0.3, \"dizzy\": 0.6},\n",
    "}"
   ]
  },
  {
   "cell_type": "code",
   "execution_count": 3,
   "metadata": {},
   "outputs": [
    {
     "name": "stdout",
     "output_type": "stream",
     "text": [
      "       0       1       2\n",
      "Healthy: 3.000000e-01 8.400000e-02 5.880000e-03\n",
      "Fever: 4.000000e-02 2.700000e-02 1.512000e-02\n",
      "['Healthy', 'Healthy', 'Fever']\n"
     ]
    }
   ],
   "source": [
    "opt = viterbi(obs, states, start_p, trans_p, emit_p)\n",
    "print(opt)"
   ]
  }
 ],
 "metadata": {
  "kernelspec": {
   "display_name": "Python 3",
   "language": "python",
   "name": "python3"
  },
  "language_info": {
   "codemirror_mode": {
    "name": "ipython",
    "version": 3
   },
   "file_extension": ".py",
   "mimetype": "text/x-python",
   "name": "python",
   "nbconvert_exporter": "python",
   "pygments_lexer": "ipython3",
   "version": "3.11.3"
  },
  "orig_nbformat": 4
 },
 "nbformat": 4,
 "nbformat_minor": 2
}
